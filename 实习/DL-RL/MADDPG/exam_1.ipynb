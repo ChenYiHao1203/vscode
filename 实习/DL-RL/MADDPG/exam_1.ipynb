{
 "cells": [
  {
   "cell_type": "code",
   "execution_count": 1,
   "metadata": {},
   "outputs": [],
   "source": [
    "import torch\n",
    "import torch.nn.functional as F\n",
    "import numpy as np\n",
    "import matplotlib.pyplot as plt\n",
    "import random\n",
    "import rl_utils"
   ]
  },
  {
   "cell_type": "code",
   "execution_count": 2,
   "metadata": {},
   "outputs": [],
   "source": [
    "!git clone https://github.com/boyu-ai/multiagent-particle-envs.git --quiet"
   ]
  },
  {
   "cell_type": "code",
   "execution_count": 3,
   "metadata": {},
   "outputs": [
    {
     "name": "stdout",
     "output_type": "stream",
     "text": [
      "Looking in indexes: https://pypi.tuna.tsinghua.edu.cn/simple\n",
      "Obtaining file:///D:/VS%20code/vscode/%E5%AE%9E%E4%B9%A0/DL-RL/MADDPG/multiagent-particle-envs\n",
      "  Preparing metadata (setup.py): started\n",
      "  Preparing metadata (setup.py): finished with status 'done'\n",
      "Requirement already satisfied: gym in d:\\anaconda _\\lib\\site-packages (from multiagent==0.0.1) (0.26.2)\n",
      "Collecting numpy-stl\n",
      "  Downloading https://pypi.tuna.tsinghua.edu.cn/packages/72/db/a3b640c7a59cdc1f6bc76f82670d39c58f3d83983cae5768ed2ff1cde437/numpy_stl-2.17.1-py3-none-any.whl (18 kB)\n",
      "Requirement already satisfied: numpy>=1.18.0 in d:\\anaconda _\\lib\\site-packages (from gym->multiagent==0.0.1) (1.20.3)\n",
      "Requirement already satisfied: gym-notices>=0.0.4 in d:\\anaconda _\\lib\\site-packages (from gym->multiagent==0.0.1) (0.0.8)\n",
      "Requirement already satisfied: cloudpickle>=1.2.0 in d:\\anaconda _\\lib\\site-packages (from gym->multiagent==0.0.1) (2.0.0)\n",
      "Requirement already satisfied: importlib-metadata>=4.8.0 in d:\\anaconda _\\lib\\site-packages (from gym->multiagent==0.0.1) (4.8.1)\n",
      "Collecting python-utils>=1.6.2\n",
      "  Downloading https://pypi.tuna.tsinghua.edu.cn/packages/45/8a/d5656afa0aac6cc7d34bbd0a9eb7730302e435e48441030009a240ab12a0/python_utils-3.4.5-py2.py3-none-any.whl (23 kB)\n",
      "Requirement already satisfied: zipp>=0.5 in d:\\anaconda _\\lib\\site-packages (from importlib-metadata>=4.8.0->gym->multiagent==0.0.1) (3.6.0)\n",
      "Installing collected packages: python-utils, numpy-stl, multiagent\n",
      "  Running setup.py develop for multiagent\n",
      "Successfully installed multiagent-0.0.1 numpy-stl-2.17.1 python-utils-3.4.5\n"
     ]
    }
   ],
   "source": [
    "! pip install -e multiagent-particle-envs"
   ]
  },
  {
   "cell_type": "code",
   "execution_count": 4,
   "metadata": {},
   "outputs": [],
   "source": [
    "import sys\n",
    "sys.path.append(\"multiagent-particle-envs\")"
   ]
  },
  {
   "cell_type": "code",
   "execution_count": 6,
   "metadata": {},
   "outputs": [
    {
     "name": "stderr",
     "output_type": "stream",
     "text": [
      "\n",
      "Usage:   \n",
      "  pip install [options] <requirement specifier> [package-index-options] ...\n",
      "  pip install [options] -r <requirements file> [package-index-options] ...\n",
      "  pip install [options] [-e] <vcs project url> ...\n",
      "  pip install [options] [-e] <local project path> ...\n",
      "  pip install [options] <archive url/path> ...\n",
      "\n",
      "no such option: -u\n"
     ]
    }
   ],
   "source": [
    "# 由于multiagent-pariticle-env底层的实现有一些版本问题,因此gym需要改为可用的版本\n",
    "! pip install - -upgrade gym==0.10.5 -q"
   ]
  },
  {
   "cell_type": "code",
   "execution_count": 7,
   "metadata": {},
   "outputs": [
    {
     "ename": "ImportError",
     "evalue": "cannot import name 'prng' from 'gym.spaces' (d:\\Anaconda _\\lib\\site-packages\\gym\\spaces\\__init__.py)",
     "output_type": "error",
     "traceback": [
      "\u001b[1;31m---------------------------------------------------------------------------\u001b[0m",
      "\u001b[1;31mImportError\u001b[0m                               Traceback (most recent call last)",
      "\u001b[1;32m~\\AppData\\Local\\Temp/ipykernel_18736/1822385062.py\u001b[0m in \u001b[0;36m<module>\u001b[1;34m\u001b[0m\n\u001b[0;32m      1\u001b[0m \u001b[1;32mimport\u001b[0m \u001b[0mgym\u001b[0m\u001b[1;33m\u001b[0m\u001b[1;33m\u001b[0m\u001b[0m\n\u001b[1;32m----> 2\u001b[1;33m \u001b[1;32mfrom\u001b[0m \u001b[0mmultiagent\u001b[0m\u001b[1;33m.\u001b[0m\u001b[0menvironment\u001b[0m \u001b[1;32mimport\u001b[0m \u001b[0mMultiAgentEnv\u001b[0m\u001b[1;33m\u001b[0m\u001b[1;33m\u001b[0m\u001b[0m\n\u001b[0m\u001b[0;32m      3\u001b[0m \u001b[1;32mimport\u001b[0m \u001b[0mmultiagent\u001b[0m\u001b[1;33m.\u001b[0m\u001b[0mscenarios\u001b[0m \u001b[1;32mas\u001b[0m \u001b[0mscenarios\u001b[0m\u001b[1;33m\u001b[0m\u001b[1;33m\u001b[0m\u001b[0m\n",
      "\u001b[1;32md:\\VS code\\vscode\\实习\\DL-RL\\MADDPG\\multiagent-particle-envs\\multiagent\\environment.py\u001b[0m in \u001b[0;36m<module>\u001b[1;34m\u001b[0m\n\u001b[0;32m      3\u001b[0m \u001b[1;32mfrom\u001b[0m \u001b[0mgym\u001b[0m\u001b[1;33m.\u001b[0m\u001b[0menvs\u001b[0m\u001b[1;33m.\u001b[0m\u001b[0mregistration\u001b[0m \u001b[1;32mimport\u001b[0m \u001b[0mEnvSpec\u001b[0m\u001b[1;33m\u001b[0m\u001b[1;33m\u001b[0m\u001b[0m\n\u001b[0;32m      4\u001b[0m \u001b[1;32mimport\u001b[0m \u001b[0mnumpy\u001b[0m \u001b[1;32mas\u001b[0m \u001b[0mnp\u001b[0m\u001b[1;33m\u001b[0m\u001b[1;33m\u001b[0m\u001b[0m\n\u001b[1;32m----> 5\u001b[1;33m \u001b[1;32mfrom\u001b[0m \u001b[0mmultiagent\u001b[0m\u001b[1;33m.\u001b[0m\u001b[0mmulti_discrete\u001b[0m \u001b[1;32mimport\u001b[0m \u001b[0mMultiDiscrete\u001b[0m\u001b[1;33m\u001b[0m\u001b[1;33m\u001b[0m\u001b[0m\n\u001b[0m\u001b[0;32m      6\u001b[0m \u001b[1;33m\u001b[0m\u001b[0m\n\u001b[0;32m      7\u001b[0m \u001b[1;31m# environment for all agents in the multiagent world\u001b[0m\u001b[1;33m\u001b[0m\u001b[1;33m\u001b[0m\u001b[0m\n",
      "\u001b[1;32md:\\VS code\\vscode\\实习\\DL-RL\\MADDPG\\multiagent-particle-envs\\multiagent\\multi_discrete.py\u001b[0m in \u001b[0;36m<module>\u001b[1;34m\u001b[0m\n\u001b[0;32m      5\u001b[0m \u001b[1;33m\u001b[0m\u001b[0m\n\u001b[0;32m      6\u001b[0m \u001b[1;32mimport\u001b[0m \u001b[0mgym\u001b[0m\u001b[1;33m\u001b[0m\u001b[1;33m\u001b[0m\u001b[0m\n\u001b[1;32m----> 7\u001b[1;33m \u001b[1;32mfrom\u001b[0m \u001b[0mgym\u001b[0m\u001b[1;33m.\u001b[0m\u001b[0mspaces\u001b[0m \u001b[1;32mimport\u001b[0m \u001b[0mprng\u001b[0m\u001b[1;33m\u001b[0m\u001b[1;33m\u001b[0m\u001b[0m\n\u001b[0m\u001b[0;32m      8\u001b[0m \u001b[1;33m\u001b[0m\u001b[0m\n\u001b[0;32m      9\u001b[0m \u001b[1;32mclass\u001b[0m \u001b[0mMultiDiscrete\u001b[0m\u001b[1;33m(\u001b[0m\u001b[0mgym\u001b[0m\u001b[1;33m.\u001b[0m\u001b[0mSpace\u001b[0m\u001b[1;33m)\u001b[0m\u001b[1;33m:\u001b[0m\u001b[1;33m\u001b[0m\u001b[1;33m\u001b[0m\u001b[0m\n",
      "\u001b[1;31mImportError\u001b[0m: cannot import name 'prng' from 'gym.spaces' (d:\\Anaconda _\\lib\\site-packages\\gym\\spaces\\__init__.py)"
     ]
    }
   ],
   "source": [
    "import gym\n",
    "from multiagent.environment import MultiAgentEnv\n",
    "import multiagent.scenarios as scenarios"
   ]
  }
 ],
 "metadata": {
  "kernelspec": {
   "display_name": "Python 3.9.7 ('base')",
   "language": "python",
   "name": "python3"
  },
  "language_info": {
   "codemirror_mode": {
    "name": "ipython",
    "version": 3
   },
   "file_extension": ".py",
   "mimetype": "text/x-python",
   "name": "python",
   "nbconvert_exporter": "python",
   "pygments_lexer": "ipython3",
   "version": "3.9.7"
  },
  "orig_nbformat": 4,
  "vscode": {
   "interpreter": {
    "hash": "caf98c34e303567b19d4a678c93e333496ab763a9db8d558a2a8979da11f12f4"
   }
  }
 },
 "nbformat": 4,
 "nbformat_minor": 2
}
